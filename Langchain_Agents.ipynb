{
  "nbformat": 4,
  "nbformat_minor": 0,
  "metadata": {
    "colab": {
      "provenance": [],
      "include_colab_link": true
    },
    "kernelspec": {
      "name": "python3",
      "display_name": "Python 3"
    },
    "language_info": {
      "name": "python"
    }
  },
  "cells": [
    {
      "cell_type": "markdown",
      "metadata": {
        "id": "view-in-github",
        "colab_type": "text"
      },
      "source": [
        "<a href=\"https://colab.research.google.com/github/himanshu-nakrani/TMLC-Gen-ai-projects/blob/main/Langchain_Agents.ipynb\" target=\"_parent\"><img src=\"https://colab.research.google.com/assets/colab-badge.svg\" alt=\"Open In Colab\"/></a>"
      ]
    },
    {
      "cell_type": "code",
      "execution_count": null,
      "metadata": {
        "colab": {
          "base_uri": "https://localhost:8080/"
        },
        "collapsed": true,
        "id": "6cwgJoABHKO0",
        "outputId": "1108ea6e-26f7-4a22-db36-18145fe4ce06"
      },
      "outputs": [
        {
          "output_type": "stream",
          "name": "stdout",
          "text": [
            "Requirement already satisfied: langchain in /usr/local/lib/python3.10/dist-packages (0.3.12)\n",
            "Collecting cohere\n",
            "  Downloading cohere-5.13.4-py3-none-any.whl.metadata (3.4 kB)\n",
            "Collecting langchain_community\n",
            "  Downloading langchain_community-0.3.13-py3-none-any.whl.metadata (2.9 kB)\n",
            "Collecting google-search-results\n",
            "  Downloading google_search_results-2.4.2.tar.gz (18 kB)\n",
            "  Preparing metadata (setup.py) ... \u001b[?25l\u001b[?25hdone\n",
            "Requirement already satisfied: PyYAML>=5.3 in /usr/local/lib/python3.10/dist-packages (from langchain) (6.0.2)\n",
            "Requirement already satisfied: SQLAlchemy<3,>=1.4 in /usr/local/lib/python3.10/dist-packages (from langchain) (2.0.36)\n",
            "Requirement already satisfied: aiohttp<4.0.0,>=3.8.3 in /usr/local/lib/python3.10/dist-packages (from langchain) (3.11.10)\n",
            "Requirement already satisfied: async-timeout<5.0.0,>=4.0.0 in /usr/local/lib/python3.10/dist-packages (from langchain) (4.0.3)\n",
            "Requirement already satisfied: langchain-core<0.4.0,>=0.3.25 in /usr/local/lib/python3.10/dist-packages (from langchain) (0.3.25)\n",
            "Requirement already satisfied: langchain-text-splitters<0.4.0,>=0.3.3 in /usr/local/lib/python3.10/dist-packages (from langchain) (0.3.3)\n",
            "Requirement already satisfied: langsmith<0.3,>=0.1.17 in /usr/local/lib/python3.10/dist-packages (from langchain) (0.2.3)\n",
            "Requirement already satisfied: numpy<2,>=1.22.4 in /usr/local/lib/python3.10/dist-packages (from langchain) (1.26.4)\n",
            "Requirement already satisfied: pydantic<3.0.0,>=2.7.4 in /usr/local/lib/python3.10/dist-packages (from langchain) (2.10.3)\n",
            "Requirement already satisfied: requests<3,>=2 in /usr/local/lib/python3.10/dist-packages (from langchain) (2.32.3)\n",
            "Requirement already satisfied: tenacity!=8.4.0,<10,>=8.1.0 in /usr/local/lib/python3.10/dist-packages (from langchain) (9.0.0)\n",
            "Collecting fastavro<2.0.0,>=1.9.4 (from cohere)\n",
            "  Downloading fastavro-1.10.0-cp310-cp310-manylinux_2_17_x86_64.manylinux2014_x86_64.whl.metadata (5.5 kB)\n",
            "Requirement already satisfied: httpx>=0.21.2 in /usr/local/lib/python3.10/dist-packages (from cohere) (0.28.1)\n",
            "Collecting httpx-sse==0.4.0 (from cohere)\n",
            "  Downloading httpx_sse-0.4.0-py3-none-any.whl.metadata (9.0 kB)\n",
            "Collecting parameterized<0.10.0,>=0.9.0 (from cohere)\n",
            "  Downloading parameterized-0.9.0-py2.py3-none-any.whl.metadata (18 kB)\n",
            "Requirement already satisfied: pydantic-core<3.0.0,>=2.18.2 in /usr/local/lib/python3.10/dist-packages (from cohere) (2.27.1)\n",
            "Requirement already satisfied: tokenizers<1,>=0.15 in /usr/local/lib/python3.10/dist-packages (from cohere) (0.21.0)\n",
            "Collecting types-requests<3.0.0,>=2.0.0 (from cohere)\n",
            "  Downloading types_requests-2.32.0.20241016-py3-none-any.whl.metadata (1.9 kB)\n",
            "Requirement already satisfied: typing_extensions>=4.0.0 in /usr/local/lib/python3.10/dist-packages (from cohere) (4.12.2)\n",
            "Collecting dataclasses-json<0.7,>=0.5.7 (from langchain_community)\n",
            "  Downloading dataclasses_json-0.6.7-py3-none-any.whl.metadata (25 kB)\n",
            "Collecting langchain\n",
            "  Downloading langchain-0.3.13-py3-none-any.whl.metadata (7.1 kB)\n",
            "Collecting langchain-core<0.4.0,>=0.3.25 (from langchain)\n",
            "  Downloading langchain_core-0.3.28-py3-none-any.whl.metadata (6.3 kB)\n",
            "Collecting pydantic-settings<3.0.0,>=2.4.0 (from langchain_community)\n",
            "  Downloading pydantic_settings-2.7.0-py3-none-any.whl.metadata (3.5 kB)\n",
            "Requirement already satisfied: aiohappyeyeballs>=2.3.0 in /usr/local/lib/python3.10/dist-packages (from aiohttp<4.0.0,>=3.8.3->langchain) (2.4.4)\n",
            "Requirement already satisfied: aiosignal>=1.1.2 in /usr/local/lib/python3.10/dist-packages (from aiohttp<4.0.0,>=3.8.3->langchain) (1.3.2)\n",
            "Requirement already satisfied: attrs>=17.3.0 in /usr/local/lib/python3.10/dist-packages (from aiohttp<4.0.0,>=3.8.3->langchain) (24.3.0)\n",
            "Requirement already satisfied: frozenlist>=1.1.1 in /usr/local/lib/python3.10/dist-packages (from aiohttp<4.0.0,>=3.8.3->langchain) (1.5.0)\n",
            "Requirement already satisfied: multidict<7.0,>=4.5 in /usr/local/lib/python3.10/dist-packages (from aiohttp<4.0.0,>=3.8.3->langchain) (6.1.0)\n",
            "Requirement already satisfied: propcache>=0.2.0 in /usr/local/lib/python3.10/dist-packages (from aiohttp<4.0.0,>=3.8.3->langchain) (0.2.1)\n",
            "Requirement already satisfied: yarl<2.0,>=1.17.0 in /usr/local/lib/python3.10/dist-packages (from aiohttp<4.0.0,>=3.8.3->langchain) (1.18.3)\n",
            "Collecting marshmallow<4.0.0,>=3.18.0 (from dataclasses-json<0.7,>=0.5.7->langchain_community)\n",
            "  Downloading marshmallow-3.23.2-py3-none-any.whl.metadata (7.1 kB)\n",
            "Collecting typing-inspect<1,>=0.4.0 (from dataclasses-json<0.7,>=0.5.7->langchain_community)\n",
            "  Downloading typing_inspect-0.9.0-py3-none-any.whl.metadata (1.5 kB)\n",
            "Requirement already satisfied: anyio in /usr/local/lib/python3.10/dist-packages (from httpx>=0.21.2->cohere) (3.7.1)\n",
            "Requirement already satisfied: certifi in /usr/local/lib/python3.10/dist-packages (from httpx>=0.21.2->cohere) (2024.12.14)\n",
            "Requirement already satisfied: httpcore==1.* in /usr/local/lib/python3.10/dist-packages (from httpx>=0.21.2->cohere) (1.0.7)\n",
            "Requirement already satisfied: idna in /usr/local/lib/python3.10/dist-packages (from httpx>=0.21.2->cohere) (3.10)\n",
            "Requirement already satisfied: h11<0.15,>=0.13 in /usr/local/lib/python3.10/dist-packages (from httpcore==1.*->httpx>=0.21.2->cohere) (0.14.0)\n",
            "Requirement already satisfied: jsonpatch<2.0,>=1.33 in /usr/local/lib/python3.10/dist-packages (from langchain-core<0.4.0,>=0.3.25->langchain) (1.33)\n",
            "Requirement already satisfied: packaging<25,>=23.2 in /usr/local/lib/python3.10/dist-packages (from langchain-core<0.4.0,>=0.3.25->langchain) (24.2)\n",
            "Requirement already satisfied: orjson<4.0.0,>=3.9.14 in /usr/local/lib/python3.10/dist-packages (from langsmith<0.3,>=0.1.17->langchain) (3.10.12)\n",
            "Requirement already satisfied: requests-toolbelt<2.0.0,>=1.0.0 in /usr/local/lib/python3.10/dist-packages (from langsmith<0.3,>=0.1.17->langchain) (1.0.0)\n",
            "Requirement already satisfied: annotated-types>=0.6.0 in /usr/local/lib/python3.10/dist-packages (from pydantic<3.0.0,>=2.7.4->langchain) (0.7.0)\n",
            "Collecting python-dotenv>=0.21.0 (from pydantic-settings<3.0.0,>=2.4.0->langchain_community)\n",
            "  Downloading python_dotenv-1.0.1-py3-none-any.whl.metadata (23 kB)\n",
            "Requirement already satisfied: charset-normalizer<4,>=2 in /usr/local/lib/python3.10/dist-packages (from requests<3,>=2->langchain) (3.4.0)\n",
            "Requirement already satisfied: urllib3<3,>=1.21.1 in /usr/local/lib/python3.10/dist-packages (from requests<3,>=2->langchain) (2.2.3)\n",
            "Requirement already satisfied: greenlet!=0.4.17 in /usr/local/lib/python3.10/dist-packages (from SQLAlchemy<3,>=1.4->langchain) (3.1.1)\n",
            "Requirement already satisfied: huggingface-hub<1.0,>=0.16.4 in /usr/local/lib/python3.10/dist-packages (from tokenizers<1,>=0.15->cohere) (0.27.0)\n",
            "Requirement already satisfied: filelock in /usr/local/lib/python3.10/dist-packages (from huggingface-hub<1.0,>=0.16.4->tokenizers<1,>=0.15->cohere) (3.16.1)\n",
            "Requirement already satisfied: fsspec>=2023.5.0 in /usr/local/lib/python3.10/dist-packages (from huggingface-hub<1.0,>=0.16.4->tokenizers<1,>=0.15->cohere) (2024.10.0)\n",
            "Requirement already satisfied: tqdm>=4.42.1 in /usr/local/lib/python3.10/dist-packages (from huggingface-hub<1.0,>=0.16.4->tokenizers<1,>=0.15->cohere) (4.67.1)\n",
            "Requirement already satisfied: jsonpointer>=1.9 in /usr/local/lib/python3.10/dist-packages (from jsonpatch<2.0,>=1.33->langchain-core<0.4.0,>=0.3.25->langchain) (3.0.0)\n",
            "Collecting mypy-extensions>=0.3.0 (from typing-inspect<1,>=0.4.0->dataclasses-json<0.7,>=0.5.7->langchain_community)\n",
            "  Downloading mypy_extensions-1.0.0-py3-none-any.whl.metadata (1.1 kB)\n",
            "Requirement already satisfied: sniffio>=1.1 in /usr/local/lib/python3.10/dist-packages (from anyio->httpx>=0.21.2->cohere) (1.3.1)\n",
            "Requirement already satisfied: exceptiongroup in /usr/local/lib/python3.10/dist-packages (from anyio->httpx>=0.21.2->cohere) (1.2.2)\n",
            "Downloading cohere-5.13.4-py3-none-any.whl (250 kB)\n",
            "\u001b[2K   \u001b[90m━━━━━━━━━━━━━━━━━━━━━━━━━━━━━━━━━━━━━━━━\u001b[0m \u001b[32m250.0/250.0 kB\u001b[0m \u001b[31m5.6 MB/s\u001b[0m eta \u001b[36m0:00:00\u001b[0m\n",
            "\u001b[?25hDownloading httpx_sse-0.4.0-py3-none-any.whl (7.8 kB)\n",
            "Downloading langchain_community-0.3.13-py3-none-any.whl (2.5 MB)\n",
            "\u001b[2K   \u001b[90m━━━━━━━━━━━━━━━━━━━━━━━━━━━━━━━━━━━━━━━━\u001b[0m \u001b[32m2.5/2.5 MB\u001b[0m \u001b[31m40.4 MB/s\u001b[0m eta \u001b[36m0:00:00\u001b[0m\n",
            "\u001b[?25hDownloading langchain-0.3.13-py3-none-any.whl (1.0 MB)\n",
            "\u001b[2K   \u001b[90m━━━━━━━━━━━━━━━━━━━━━━━━━━━━━━━━━━━━━━━━\u001b[0m \u001b[32m1.0/1.0 MB\u001b[0m \u001b[31m58.8 MB/s\u001b[0m eta \u001b[36m0:00:00\u001b[0m\n",
            "\u001b[?25hDownloading dataclasses_json-0.6.7-py3-none-any.whl (28 kB)\n",
            "Downloading fastavro-1.10.0-cp310-cp310-manylinux_2_17_x86_64.manylinux2014_x86_64.whl (3.1 MB)\n",
            "\u001b[2K   \u001b[90m━━━━━━━━━━━━━━━━━━━━━━━━━━━━━━━━━━━━━━━━\u001b[0m \u001b[32m3.1/3.1 MB\u001b[0m \u001b[31m69.9 MB/s\u001b[0m eta \u001b[36m0:00:00\u001b[0m\n",
            "\u001b[?25hDownloading langchain_core-0.3.28-py3-none-any.whl (411 kB)\n",
            "\u001b[2K   \u001b[90m━━━━━━━━━━━━━━━━━━━━━━━━━━━━━━━━━━━━━━━━\u001b[0m \u001b[32m411.6/411.6 kB\u001b[0m \u001b[31m33.9 MB/s\u001b[0m eta \u001b[36m0:00:00\u001b[0m\n",
            "\u001b[?25hDownloading parameterized-0.9.0-py2.py3-none-any.whl (20 kB)\n",
            "Downloading pydantic_settings-2.7.0-py3-none-any.whl (29 kB)\n",
            "Downloading types_requests-2.32.0.20241016-py3-none-any.whl (15 kB)\n",
            "Downloading marshmallow-3.23.2-py3-none-any.whl (49 kB)\n",
            "\u001b[2K   \u001b[90m━━━━━━━━━━━━━━━━━━━━━━━━━━━━━━━━━━━━━━━━\u001b[0m \u001b[32m49.3/49.3 kB\u001b[0m \u001b[31m5.4 MB/s\u001b[0m eta \u001b[36m0:00:00\u001b[0m\n",
            "\u001b[?25hDownloading python_dotenv-1.0.1-py3-none-any.whl (19 kB)\n",
            "Downloading typing_inspect-0.9.0-py3-none-any.whl (8.8 kB)\n",
            "Downloading mypy_extensions-1.0.0-py3-none-any.whl (4.7 kB)\n",
            "Building wheels for collected packages: google-search-results\n",
            "  Building wheel for google-search-results (setup.py) ... \u001b[?25l\u001b[?25hdone\n",
            "  Created wheel for google-search-results: filename=google_search_results-2.4.2-py3-none-any.whl size=32009 sha256=ea3e1541a389f020108bd61f339bc46d504d1ff8b3ebd099027286f6168de863\n",
            "  Stored in directory: /root/.cache/pip/wheels/d3/b2/c3/03302d12bb44a2cdff3c9371f31b72c0c4e84b8d2285eeac53\n",
            "Successfully built google-search-results\n",
            "Installing collected packages: types-requests, python-dotenv, parameterized, mypy-extensions, marshmallow, httpx-sse, fastavro, typing-inspect, google-search-results, pydantic-settings, dataclasses-json, langchain-core, cohere, langchain, langchain_community\n",
            "  Attempting uninstall: langchain-core\n",
            "    Found existing installation: langchain-core 0.3.25\n",
            "    Uninstalling langchain-core-0.3.25:\n",
            "      Successfully uninstalled langchain-core-0.3.25\n",
            "  Attempting uninstall: langchain\n",
            "    Found existing installation: langchain 0.3.12\n",
            "    Uninstalling langchain-0.3.12:\n",
            "      Successfully uninstalled langchain-0.3.12\n",
            "Successfully installed cohere-5.13.4 dataclasses-json-0.6.7 fastavro-1.10.0 google-search-results-2.4.2 httpx-sse-0.4.0 langchain-0.3.13 langchain-core-0.3.28 langchain_community-0.3.13 marshmallow-3.23.2 mypy-extensions-1.0.0 parameterized-0.9.0 pydantic-settings-2.7.0 python-dotenv-1.0.1 types-requests-2.32.0.20241016 typing-inspect-0.9.0\n"
          ]
        }
      ],
      "source": [
        "!pip install langchain cohere langchain_community google-search-results"
      ]
    },
    {
      "cell_type": "code",
      "source": [
        "from langchain.agents import load_tools\n",
        "from langchain.agents import initialize_agent, Tool\n",
        "from langchain.agents import AgentType\n",
        "from langchain_community.llms import Cohere\n",
        "from langchain import LLMMathChain\n",
        "from google.colab import userdata"
      ],
      "metadata": {
        "id": "uo4Uac9EH_aH"
      },
      "execution_count": null,
      "outputs": []
    },
    {
      "cell_type": "code",
      "source": [
        "import os\n",
        "os.environ[\"SERPAPI_API_KEY\"] = userdata.get('serp')"
      ],
      "metadata": {
        "id": "MaslqFadIbww"
      },
      "execution_count": null,
      "outputs": []
    },
    {
      "cell_type": "code",
      "source": [
        "# model_parameter = {\"temperature\": 0.0, \"top_p\": .5, \"max_tokens_to_sample\": 2000}\n",
        "\n",
        "react_agent_llm = Cohere(cohere_api_key=userdata.get('COHERE_KEY'))\n",
        "math_chain_llm = Cohere(cohere_api_key=userdata.get('COHERE_KEY'))\n",
        "\n",
        "tools = load_tools([\"serpapi\"], llm=react_agent_llm)\n",
        "\n",
        "llm_math_chain = LLMMathChain.from_llm(llm=math_chain_llm, verbose=True)\n",
        "\n",
        "llm_math_chain.llm_chain.prompt.template = \"\"\"Human: Given a question with a math problem, provide only a single line mathematical expression that solves the problem in the following format. Don't solve the expression only create a parsable expression.\n",
        "```text\n",
        "${{single line mathematical expression that solves the problem}}\n",
        "```\n",
        "\n",
        "Assistant:\n",
        " Here is an example response with a single line mathematical expression for solving a math problem:\n",
        "```text\n",
        "37593**(1/5)\n",
        "```\n",
        "\n",
        "Human: {question}\n",
        "\n",
        "Assistant:\"\"\"\n",
        "\n",
        "tools.append(\n",
        "    Tool.from_function(\n",
        "        func=llm_math_chain.run,\n",
        "        name=\"Calculator\",\n",
        "        description=\"Useful for when you need to answer questions about math.\",\n",
        "    )\n",
        ")"
      ],
      "metadata": {
        "id": "fxqFkcoBHvFz",
        "colab": {
          "base_uri": "https://localhost:8080/"
        },
        "outputId": "f1a3eda3-5581-40be-b898-36ccaab63a29"
      },
      "execution_count": null,
      "outputs": [
        {
          "output_type": "stream",
          "name": "stderr",
          "text": [
            "<ipython-input-4-f26aa838e9e5>:3: LangChainDeprecationWarning: The class `Cohere` was deprecated in LangChain 0.1.14 and will be removed in 1.0. An updated version of the class exists in the :class:`~langchain-cohere package and should be used instead. To use it run `pip install -U :class:`~langchain-cohere` and import as `from :class:`~langchain_cohere import Cohere``.\n",
            "  react_agent_llm = Cohere(cohere_api_key=userdata.get('COHERE_KEY'))\n"
          ]
        }
      ]
    },
    {
      "cell_type": "code",
      "source": [
        "react_agent = initialize_agent(tools,\n",
        "                               react_agent_llm,\n",
        "                               agent=AgentType.ZERO_SHOT_REACT_DESCRIPTION,\n",
        "                               verbose=True,\n",
        "                               )"
      ],
      "metadata": {
        "colab": {
          "base_uri": "https://localhost:8080/"
        },
        "id": "Y8Hyi2aiJEK0",
        "outputId": "1075e896-7aae-41f8-9d2a-9659d49b67fe"
      },
      "execution_count": null,
      "outputs": [
        {
          "output_type": "stream",
          "name": "stderr",
          "text": [
            "<ipython-input-5-fda2adc2dab0>:1: LangChainDeprecationWarning: LangChain agents will continue to be supported, but it is recommended for new use cases to be built with LangGraph. LangGraph offers a more flexible and full-featured framework for building agents, including support for tool-calling, persistence of state, and human-in-the-loop workflows. See LangGraph documentation for more details: https://langchain-ai.github.io/langgraph/. Refer here for its pre-built ReAct agent: https://langchain-ai.github.io/langgraph/how-tos/create-react-agent/\n",
            "  react_agent = initialize_agent(tools,\n"
          ]
        }
      ]
    },
    {
      "cell_type": "code",
      "source": [
        "prompt_template = \"\"\"Use the following format:\n",
        "Question: the input question you must answer\n",
        "Thought: you should always think about what to do, Also try to follow steps mentioned above\n",
        "Action: the action to take, should be one of [\"Search\", \"Calculator\"]\n",
        "Action Input: the input to the action\n",
        "Observation: the result of the action\n",
        "... (this Thought/Action/Action Input/Observation can repeat N times)\n",
        "Thought: I now know the final answer\n",
        "Final Answer: the final answer to the original input question\n",
        "\n",
        "Question: {input}\n",
        "\n",
        "Assistant:\n",
        "{agent_scratchpad}\"\"\"\n",
        "\n",
        "react_agent.agent.llm_chain.prompt.template=prompt_template"
      ],
      "metadata": {
        "id": "zHukimYhJFXw"
      },
      "execution_count": null,
      "outputs": []
    },
    {
      "cell_type": "code",
      "source": [
        "react_agent(\"When did the last Fifa world cup happen and who won it?\")"
      ],
      "metadata": {
        "colab": {
          "base_uri": "https://localhost:8080/"
        },
        "id": "gawVg0czJHJb",
        "outputId": "55d60972-32cd-46ff-ac58-7144681b359a"
      },
      "execution_count": null,
      "outputs": [
        {
          "output_type": "stream",
          "name": "stdout",
          "text": [
            "\n",
            "\n",
            "\u001b[1m> Entering new AgentExecutor chain...\u001b[0m\n",
            "\u001b[32;1m\u001b[1;3m Thought: Assuming you would like to know about the winner of the most recent World Cup, as that is the most common interpretation of \"last\". I should look up the most recent FIFA World Cup finals. \n",
            "\n",
            "Action: Search\n",
            "Action Input: Last FIFA World Cup winners\n",
            "\u001b[0m\n",
            "Observation: \u001b[36;1m\u001b[1;3m{'title': '2022 World Cup', 'games': [{'tournament': 'World Cup', 'stage': 'Final', 'venue': 'Lusail Stadium', 'venue_kgmid': '/m/0fq1625', 'status': 'FT (P)', 'date': 'Dec 18, 22', 'video_highlights': {'link': 'https://www.plus.fifa.com/content/46772b92-24c3-4315-87da-158ef7af6259?cid=(p_go-box)(c_FIFAPlus)(sc_highlights)(ssc_)(da_)(co_)(cc_)&s_cid=(co_)(cc_)&c=(c_FIFAPlus)(sc_highlights)(ssc_)(cc_)&pid=(p_go-box)(ch_)(t_)', 'thumbnail': 'https://serpapi.com/searches/67697eb92bef57696834e091/images/0471cf2577eb7795d91dfc8dd2e8c7fdd176b0bcf269b4b7dca7ba96bbe20e3a6b14bf2d412367087ba4054e1f714786e2c2e435cdc5692d.jpeg', 'duration': '2:00'}, 'teams': [{'name': 'Argentina', 'score': '3 (4)', 'kgmid': '/m/02bh_v', 'thumbnail': 'https://serpapi.com/searches/67697eb92bef57696834e091/images/0471cf2577eb7795d91dfc8dd2e8c7fd921137111454efa1f82b674ad0b62b115e8d41ddc3083a8c22293f96b4f8bcd4.png'}, {'name': 'France', 'score': '3 (2)', 'kgmid': '/m/01l3vx', 'thumbnail': 'https://serpapi.com/searches/67697eb92bef57696834e091/images/0471cf2577eb7795d91dfc8dd2e8c7fd921137111454efa1d80c2f9189582f30a0f23a396206101ea69532996eb24e80.png'}]}, {'tournament': 'World Cup', 'stage': 'Third place play-off', 'venue': 'Khalifa International Stadium', 'venue_kgmid': '/m/09s88f', 'status': 'FT', 'date': 'Dec 17, 22', 'video_highlights': {'link': 'https://www.plus.fifa.com/content/09e75c23-ec7d-4a6c-8b67-786e8c8c2627?cid=(p_go-box)(c_FIFAPlus)(sc_highlights)(ssc_)(da_)(co_)(cc_)&s_cid=(co_)(cc_)&c=(c_FIFAPlus)(sc_highlights)(ssc_)(cc_)&pid=(p_go-box)(ch_)(t_)', 'thumbnail': 'https://serpapi.com/searches/67697eb92bef57696834e091/images/0471cf2577eb7795d91dfc8dd2e8c7fdc6eca342b7e9b2dda933beb8b499175a9631725c9433e615dcabc11f251ff6c596d4ff92b4ae0836.jpeg', 'duration': '2:00'}, 'teams': [{'name': 'Croatia', 'score': '2', 'kgmid': '/m/0356gk', 'thumbnail': 'https://serpapi.com/searches/67697eb92bef57696834e091/images/0471cf2577eb7795d91dfc8dd2e8c7fd2aeef72f7e81ac93a7483827812b2cfea3513ebec7386d6bee826784b9f644b7.png'}, {'name': 'Morocco', 'score': '1', 'kgmid': '/m/03_9hm', 'thumbnail': 'https://serpapi.com/searches/67697eb92bef57696834e091/images/0471cf2577eb7795d91dfc8dd2e8c7fd2aeef72f7e81ac93919df1e21cf0e09f67117e050e713208f3ed9ef9055b6214.png'}]}, {'tournament': 'World Cup', 'stage': 'Semi-finals', 'venue': 'Al Bayt Stadium', 'venue_kgmid': '/m/0fqsmsx', 'status': 'FT', 'date': 'Dec 14, 22', 'video_highlights': {'link': 'https://www.plus.fifa.com/content/7e2abcd7-4379-4bdd-95d6-a45ef0d977b0?cid=(p_go-box)(c_FIFAPlus)(sc_highlights)(ssc_)(da_)(co_)(cc_)&s_cid=(co_)(cc_)&c=(c_FIFAPlus)(sc_highlights)(ssc_)(cc_)&pid=(p_go-box)(ch_)(t_)', 'thumbnail': 'https://serpapi.com/searches/67697eb92bef57696834e091/images/0471cf2577eb7795d91dfc8dd2e8c7fd5f53b124b8d63114dfbc9476ff2a752be00a868b6a3115f14802ccce4dbfb4c2936ad4d41f10ff4c.jpeg', 'duration': '2:00'}, 'teams': [{'name': 'France', 'score': '2', 'kgmid': '/m/01l3vx', 'thumbnail': 'https://serpapi.com/searches/67697eb92bef57696834e091/images/0471cf2577eb7795d91dfc8dd2e8c7fd111dba3e1e262dc367c176acc34b2ac7f262c48a4a7e4a0b26c38da0303caf7f.png'}, {'name': 'Morocco', 'score': '0', 'kgmid': '/m/03_9hm', 'thumbnail': 'https://serpapi.com/searches/67697eb92bef57696834e091/images/0471cf2577eb7795d91dfc8dd2e8c7fd111dba3e1e262dc3947e764d7ff3f6f9df05e1c14740afaa2f81aa594637ef7b.png'}]}, {'tournament': 'World Cup', 'stage': 'Semi-finals', 'venue': 'Lusail Stadium', 'venue_kgmid': '/m/0fq1625', 'status': 'FT', 'date': 'Dec 13, 22', 'video_highlights': {'link': 'https://www.plus.fifa.com/content/9b1396af-643b-4613-a455-a4aa4339314a?cid=(p_go-box)(c_FIFAPlus)(sc_highlights)(ssc_)(da_)(co_)(cc_)&s_cid=(co_)(cc_)&c=(c_FIFAPlus)(sc_highlights)(ssc_)(cc_)&pid=(p_go-box)(ch_)(t_)', 'thumbnail': 'https://serpapi.com/searches/67697eb92bef57696834e091/images/0471cf2577eb7795d91dfc8dd2e8c7fdefd1ea28e711dbcee422a28a57dbf7e366c7a4a753880160f33db452620ddeaa1fd78395ed6330b1.jpeg', 'duration': '2:00'}, 'teams': [{'name': 'Argentina', 'score': '3', 'kgmid': '/m/02bh_v', 'thumbnail': 'https://serpapi.com/searches/67697eb92bef57696834e091/images/0471cf2577eb7795d91dfc8dd2e8c7fd1e993f51d6558cf346a5028685876c99635cb8f705f34fae8248b9caeaa9bd71.png'}, {'name': 'Croatia', 'score': '0', 'kgmid': '/m/0356gk', 'thumbnail': 'https://serpapi.com/searches/67697eb92bef57696834e091/images/0471cf2577eb7795d91dfc8dd2e8c7fd1e993f51d6558cf37f780b90c1f2a8469dc0bd7814f0d2de1a9af73a00cf0681.png'}]}, {'tournament': 'World Cup', 'stage': 'Quarter-finals', 'venue': 'Al Bayt Stadium', 'venue_kgmid': '/m/0fqsmsx', 'status': 'FT', 'date': 'Dec 10, 22', 'video_highlights': {'link': 'https://www.plus.fifa.com/content/c8c095cd-9f14-4c4c-bc0f-50f9c3659fec?cid=(p_go-box)(c_FIFAPlus)(sc_highlights)(ssc_)(da_)(co_)(cc_)&s_cid=(co_)(cc_)&c=(c_FIFAPlus)(sc_highlights)(ssc_)(cc_)&pid=(p_go-box)(ch_)(t_)', 'thumbnail': 'https://serpapi.com/searches/67697eb92bef57696834e091/images/0471cf2577eb7795d91dfc8dd2e8c7fdb85996635dfa7ff4a2cd1976971057f9ae309ae8f75cc29de082e3e4fae2e20155c9417e06ba30ed.jpeg', 'duration': '2:00'}, 'teams': [{'name': 'England', 'score': '1', 'kgmid': '/m/02pp1', 'thumbnail': 'https://serpapi.com/searches/67697eb92bef57696834e091/images/0471cf2577eb7795d91dfc8dd2e8c7fd2f6bad361dd6833b878aa10bdaf0745d6fb0256b7c6423fa7e8ca2ff2fde6e49.png'}, {'name': 'France', 'score': '2', 'kgmid': '/m/01l3vx', 'thumbnail': 'https://serpapi.com/searches/67697eb92bef57696834e091/images/0471cf2577eb7795d91dfc8dd2e8c7fd2f6bad361dd6833b269d3374d83f351c864f0961ad31e70ae4dbf41fea50d9ee.png'}]}, {'tournament': 'World Cup', 'stage': 'Quarter-finals', 'venue': 'Al Thumama Stadium', 'venue_kgmid': '/g/11f06l125x', 'status': 'FT', 'date': 'Dec 10, 22', 'video_highlights': {'link': 'https://www.plus.fifa.com/content/0b79ae56-6ae4-4d62-b18e-02050be9f6d4?cid=(p_go-box)(c_FIFAPlus)(sc_highlights)(ssc_)(da_)(co_)(cc_)&s_cid=(co_)(cc_)&c=(c_FIFAPlus)(sc_highlights)(ssc_)(cc_)&pid=(p_go-box)(ch_)(t_)', 'thumbnail': 'https://serpapi.com/searches/67697eb92bef57696834e091/images/0471cf2577eb7795d91dfc8dd2e8c7fd7e05c8092286114c32bcc5e358e0b6782fee3aae68030d6b1202a97b0a3374d9be08c61430bf3127.jpeg', 'duration': '2:00'}, 'teams': [{'name': 'Morocco', 'score': '1', 'red_card': True, 'kgmid': '/m/03_9hm', 'thumbnail': 'https://serpapi.com/searches/67697eb92bef57696834e091/images/0471cf2577eb7795d91dfc8dd2e8c7fd2aeb46d46de9a71ab4b6a057b637eceb2d8dc3fd786da57ba3d9e79c3b78a4f4.png'}, {'name': 'Portugal', 'score': '0', 'kgmid': '/m/02rqxc', 'thumbnail': 'https://serpapi.com/searches/67697eb92bef57696834e091/images/0471cf2577eb7795d91dfc8dd2e8c7fd2aeb46d46de9a71adab1ae32982f3ec1a672df6323b6f29f3887f71ec6a6936b.png'}]}]}\u001b[0m\n",
            "Thought:\u001b[32;1m\u001b[1;3m Action: Search\n",
            "Action Input: 2022 world cup winner\u001b[0m\n",
            "Observation: \u001b[36;1m\u001b[1;3mArgentina national football team\u001b[0m\n",
            "Thought:\u001b[32;1m\u001b[1;3m Thought: Great, I found the information that Argentina was the winner of the 2022 World Cup. The final score was 3-3 (4-2 penalties). \n",
            "Final Answer: Argentina\u001b[0m\n",
            "\n",
            "\u001b[1m> Finished chain.\u001b[0m\n"
          ]
        },
        {
          "output_type": "execute_result",
          "data": {
            "text/plain": [
              "{'input': 'When did the last Fifa world cup happen and who won it?',\n",
              " 'output': 'Argentina'}"
            ]
          },
          "metadata": {},
          "execution_count": 9
        }
      ]
    },
    {
      "cell_type": "code",
      "source": [],
      "metadata": {
        "id": "rnTlnV4aJLS7"
      },
      "execution_count": null,
      "outputs": []
    }
  ]
}