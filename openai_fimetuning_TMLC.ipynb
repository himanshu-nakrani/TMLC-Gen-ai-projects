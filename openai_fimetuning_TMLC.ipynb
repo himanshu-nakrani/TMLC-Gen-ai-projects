{
  "nbformat": 4,
  "nbformat_minor": 0,
  "metadata": {
    "colab": {
      "provenance": [],
      "authorship_tag": "ABX9TyP+wdv+l13DosEiHloNEqp7",
      "include_colab_link": true
    },
    "kernelspec": {
      "name": "python3",
      "display_name": "Python 3"
    },
    "language_info": {
      "name": "python"
    }
  },
  "cells": [
    {
      "cell_type": "markdown",
      "metadata": {
        "id": "view-in-github",
        "colab_type": "text"
      },
      "source": [
        "<a href=\"https://colab.research.google.com/github/himanshu-nakrani/TMLC-Gen-ai-projects/blob/main/openai_fimetuning_TMLC.ipynb\" target=\"_parent\"><img src=\"https://colab.research.google.com/assets/colab-badge.svg\" alt=\"Open In Colab\"/></a>"
      ]
    },
    {
      "cell_type": "markdown",
      "source": [
        "# **Assignment**"
      ],
      "metadata": {
        "id": "h1res1UuDMb5"
      }
    },
    {
      "cell_type": "code",
      "source": [
        "# Import necessary libraries\n",
        "import os\n",
        "import pandas as pd\n",
        "import json\n",
        "from openai import OpenAI"
      ],
      "metadata": {
        "id": "MrPLoDg0_yI9"
      },
      "execution_count": null,
      "outputs": []
    },
    {
      "cell_type": "code",
      "source": [
        "import pandas as pd\n",
        "\n",
        "df = pd.read_json(\"hf://datasets/MakTek/Customer_support_faqs_dataset/train_expanded.json\", lines=True)"
      ],
      "metadata": {
        "colab": {
          "base_uri": "https://localhost:8080/"
        },
        "id": "FMwAkyHp_xcs",
        "outputId": "24eba72e-50b9-4416-ab79-bc33a1f97c46"
      },
      "execution_count": null,
      "outputs": [
        {
          "output_type": "stream",
          "name": "stderr",
          "text": [
            "/usr/local/lib/python3.10/dist-packages/huggingface_hub/utils/_auth.py:94: UserWarning: \n",
            "The secret `HF_TOKEN` does not exist in your Colab secrets.\n",
            "To authenticate with the Hugging Face Hub, create a token in your settings tab (https://huggingface.co/settings/tokens), set it as secret in your Google Colab and restart your session.\n",
            "You will be able to reuse this secret in all of your notebooks.\n",
            "Please note that authentication is recommended but still optional to access public models or datasets.\n",
            "  warnings.warn(\n"
          ]
        }
      ]
    },
    {
      "cell_type": "code",
      "source": [
        "# df = pd.read_csv('your_data.csv')  # Replace 'your_data.csv' with your dataset file\n",
        "\n",
        "# Convert the dataset to JSONL format\n",
        "output_file = 'data.jsonl'\n",
        "with open(output_file, 'w') as f:\n",
        "    for _, row in df.iterrows():\n",
        "        # Create JSON lines for chat model fine-tuning\n",
        "        json_line = json.dumps({\n",
        "            \"messages\": [\n",
        "                {\"role\": \"system\", \"content\": \"You are a helpful assistant.\"},\n",
        "                {\"role\": \"user\", \"content\": row['question']},\n",
        "                {\"role\": \"assistant\", \"content\": row['answer']}\n",
        "            ]\n",
        "        })\n",
        "        f.write(json_line + '\\n')\n",
        "print(f\"Dataset converted and saved to {output_file}\")\n",
        "\n",
        "# comment when using your own data\n",
        "# output_file = 'training.jsonl'"
      ],
      "metadata": {
        "colab": {
          "base_uri": "https://localhost:8080/"
        },
        "id": "fulkwrIl_6nl",
        "outputId": "dfdc0107-e459-481e-e7f7-7cd0808fff2f"
      },
      "execution_count": null,
      "outputs": [
        {
          "output_type": "stream",
          "name": "stdout",
          "text": [
            "Dataset converted and saved to data.jsonl\n"
          ]
        }
      ]
    },
    {
      "cell_type": "code",
      "source": [
        "client = OpenAI()"
      ],
      "metadata": {
        "id": "5FUJ43O5ANGI"
      },
      "execution_count": null,
      "outputs": []
    },
    {
      "cell_type": "code",
      "source": [
        "uploaded_file = client.files.create(\n",
        "    file=open(output_file, \"rb\"),\n",
        "    purpose=\"fine-tune\"\n",
        ")\n",
        "print(f\"File uploaded successfully. File ID: {uploaded_file.id}\")"
      ],
      "metadata": {
        "colab": {
          "base_uri": "https://localhost:8080/"
        },
        "id": "4f_epCM5APw_",
        "outputId": "0e14757f-6e1b-47e9-94a1-0f431a47b540"
      },
      "execution_count": null,
      "outputs": [
        {
          "output_type": "stream",
          "name": "stdout",
          "text": [
            "File uploaded successfully. File ID: file-K25b9hLM2VVUr1BfcoYDZ1\n"
          ]
        }
      ]
    },
    {
      "cell_type": "code",
      "source": [
        "fine_tune_job = client.fine_tuning.jobs.create(\n",
        "    training_file=uploaded_file.id,\n",
        "    suffix=\"custom-fine-tuned-model\",\n",
        "    model=\"gpt-4o-mini-2024-07-18\"  # Adjust the model as required\n",
        ")\n",
        "print(f\"Fine-tuning job started. Job ID: {fine_tune_job.id}\")"
      ],
      "metadata": {
        "colab": {
          "base_uri": "https://localhost:8080/"
        },
        "id": "rgSlTaKpARIL",
        "outputId": "f97234bf-895f-428f-a447-724199d26921"
      },
      "execution_count": null,
      "outputs": [
        {
          "output_type": "stream",
          "name": "stdout",
          "text": [
            "Fine-tuning job started. Job ID: ftjob-JXQCwuDMblTEXjKh2ITcqDdy\n"
          ]
        }
      ]
    },
    {
      "cell_type": "code",
      "source": [
        "client.fine_tuning.jobs.list(limit=10)"
      ],
      "metadata": {
        "colab": {
          "base_uri": "https://localhost:8080/"
        },
        "id": "Gk5sHEpIBC7n",
        "outputId": "a8a8baed-6307-4999-9ed8-9795b19e5f8e"
      },
      "execution_count": null,
      "outputs": [
        {
          "output_type": "execute_result",
          "data": {
            "text/plain": [
              "SyncCursorPage[FineTuningJob](data=[FineTuningJob(id='ftjob-JXQCwuDMblTEXjKh2ITcqDdy', created_at=1735066236, error=Error(code=None, message=None, param=None), fine_tuned_model=None, finished_at=None, hyperparameters=Hyperparameters(n_epochs=3, batch_size=1, learning_rate_multiplier=1.8), model='gpt-4o-mini-2024-07-18', object='fine_tuning.job', organization_id='org-8WCqOSfih3EAurulFOK4TlX6', result_files=[], seed=648803592, status='validating_files', trained_tokens=None, training_file='file-K25b9hLM2VVUr1BfcoYDZ1', validation_file=None, estimated_finish=None, integrations=[], user_provided_suffix='custom-fine-tuned-model', method={'type': 'supervised', 'supervised': {'hyperparameters': {'n_epochs': 3, 'batch_size': 1, 'learning_rate_multiplier': 1.8}}}), FineTuningJob(id='ftjob-gyuWdvicX1D8V0JxNmZR6Geb', created_at=1735039222, error=Error(code=None, message=None, param=None), fine_tuned_model='ft:gpt-4o-mini-2024-07-18:personal::AhxKK2o9', finished_at=1735039518, hyperparameters=Hyperparameters(n_epochs=3, batch_size=1, learning_rate_multiplier=1.8), model='gpt-4o-mini-2024-07-18', object='fine_tuning.job', organization_id='org-8WCqOSfih3EAurulFOK4TlX6', result_files=['file-242PsY4sMKgpDe2g85Q4Tx'], seed=795132612, status='succeeded', trained_tokens=6078, training_file='file-CnBBeAjkRV72C3omncgTww', validation_file=None, estimated_finish=None, integrations=[], user_provided_suffix=None, method={'type': 'supervised', 'supervised': {'hyperparameters': {'n_epochs': 3, 'batch_size': 1, 'learning_rate_multiplier': 1.8}}}), FineTuningJob(id='ftjob-hwkzSrVFUCau0BnpZCFtmOIh', created_at=1734975767, error=Error(code=None, message=None, param=None), fine_tuned_model='ft:gpt-4o-mini-2024-07-18:personal:genai-guided-projects-faq:AhhLY5rG', finished_at=1734978091, hyperparameters=Hyperparameters(n_epochs=3, batch_size=1, learning_rate_multiplier=1.8), model='gpt-4o-mini-2024-07-18', object='fine_tuning.job', organization_id='org-8WCqOSfih3EAurulFOK4TlX6', result_files=['file-LowTPgo91q7EfMuVyBRavd'], seed=42, status='succeeded', trained_tokens=6078, training_file='file-2MXKaWhiCre6deDrcv2rJN', validation_file=None, estimated_finish=None, integrations=[], user_provided_suffix='GenAI-guided-projects-FAQ', method={'type': 'supervised', 'supervised': {'hyperparameters': {'n_epochs': 3, 'batch_size': 1, 'learning_rate_multiplier': 1.8}}})], object='list', has_more=False)"
            ]
          },
          "metadata": {},
          "execution_count": 11
        }
      ]
    },
    {
      "cell_type": "code",
      "source": [
        "fine_tune_job"
      ],
      "metadata": {
        "colab": {
          "base_uri": "https://localhost:8080/"
        },
        "id": "yEeo-EkCA2Bj",
        "outputId": "d3692a08-e313-45ff-c989-5a2a4c9a6ffe"
      },
      "execution_count": null,
      "outputs": [
        {
          "output_type": "execute_result",
          "data": {
            "text/plain": [
              "FineTuningJob(id='ftjob-JXQCwuDMblTEXjKh2ITcqDdy', created_at=1735066236, error=Error(code=None, message=None, param=None), fine_tuned_model=None, finished_at=None, hyperparameters=Hyperparameters(n_epochs='auto', batch_size='auto', learning_rate_multiplier='auto'), model='gpt-4o-mini-2024-07-18', object='fine_tuning.job', organization_id='org-8WCqOSfih3EAurulFOK4TlX6', result_files=[], seed=648803592, status='validating_files', trained_tokens=None, training_file='file-K25b9hLM2VVUr1BfcoYDZ1', validation_file=None, estimated_finish=None, integrations=[], user_provided_suffix='custom-fine-tuned-model', method={'type': 'supervised', 'supervised': {'hyperparameters': {'batch_size': 'auto', 'learning_rate_multiplier': 'auto', 'n_epochs': 'auto'}}})"
            ]
          },
          "metadata": {},
          "execution_count": 10
        }
      ]
    },
    {
      "cell_type": "code",
      "source": [
        "# Example call to the fine-tuned model\n",
        "completion = client.chat.completions.create(\n",
        "    model=\"ft:gpt-4o-mini-2024-07-18:personal::AhxKK2o9\",\n",
        "    # Replace with the actual model name retrieved in above cell fine_tuned_model='ft:gpt-4o-mini-2024-07-18:personal:custom-fine-tuned-model:AbOWr1n9'\n",
        "    messages=[\n",
        "        {\"role\": \"system\", \"content\": \"You are a helpful assistant which acts as FAQ Support Assistant\"},\n",
        "        {\"role\": \"user\", \"content\": \"what are all accepted payment methods?\"}\n",
        "    ]\n",
        ")\n",
        "print(\"Fine-tuned model response:\", completion.choices[0].message.content)"
      ],
      "metadata": {
        "colab": {
          "base_uri": "https://localhost:8080/"
        },
        "id": "gkQT1cmNAWVs",
        "outputId": "3e6952c2-7935-43a8-9c64-98323e42b5bf"
      },
      "execution_count": null,
      "outputs": [
        {
          "output_type": "stream",
          "name": "stdout",
          "text": [
            "Fine-tuned model response: We accept all major credit cards, debit cards, and PayPal.\n"
          ]
        }
      ]
    },
    {
      "cell_type": "code",
      "source": [],
      "metadata": {
        "id": "dPPbIU9aAoPt"
      },
      "execution_count": null,
      "outputs": []
    }
  ]
}